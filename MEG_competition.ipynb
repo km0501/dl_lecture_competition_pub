{
 "cells": [
  {
   "cell_type": "markdown",
   "id": "4b6339f3-77e5-44dc-88d3-fd5baa8df55b",
   "metadata": {},
   "source": [
    "ライブラリのインストール"
   ]
  },
  {
   "cell_type": "code",
   "execution_count": 1,
   "id": "43478b47-0690-431f-873a-2dc2a080936b",
   "metadata": {},
   "outputs": [
    {
     "data": {
      "text/plain": [
       "'C:\\\\Users\\\\ookalab\\\\Desktop\\\\dl_lecture_competition_pub'"
      ]
     },
     "execution_count": 1,
     "metadata": {},
     "output_type": "execute_result"
    }
   ],
   "source": [
    "import os\n",
    "os.getcwd()"
   ]
  },
  {
   "cell_type": "code",
   "execution_count": 11,
   "id": "3a07737c-042b-4933-9d84-8d17eed5404c",
   "metadata": {},
   "outputs": [],
   "source": [
    "import sys\n",
    "import random\n",
    "import numpy as np\n",
    "import pandas as pd\n",
    "import torch\n",
    "import torch.nn as nn\n",
    "import torch.optim as optim\n",
    "import torch.nn.functional as F\n",
    "from torch.utils.data import Dataset, DataLoader\n",
    "from torchvision import transforms\n",
    "from torchmetrics import Accuracy\n",
    "import hydra\n",
    "from omegaconf import DictConfig\n",
    "import wandb\n",
    "from termcolor import cprint\n",
    "from tqdm import tqdm\n",
    "from einops.layers.torch import Rearrange\n",
    "from PIL import Image\n",
    "import matplotlib.pyplot as plt\n",
    "\n",
    "from src.datasets import ThingsMEGDataset\n",
    "from src.models import BasicConvClassifier\n",
    "from src.utils import set_seed"
   ]
  },
  {
   "cell_type": "code",
   "execution_count": 13,
   "id": "91effadd-9c43-4cda-bc6f-d22b2ea2b598",
   "metadata": {},
   "outputs": [],
   "source": [
    "# シード値の設定\n",
    "def set_seed(seed):\n",
    "    random.seed(seed)\n",
    "    np.random.seed(seed)\n",
    "    torch.manual_seed(seed)\n",
    "    torch.cuda.manual_seed(seed)\n",
    "    torch.cuda.manual_seed_all(seed)\n",
    "    torch.backends.cudnn.deterministic = True\n",
    "    torch.backends.cudnn.benchmark = False\n",
    "\n",
    "set_seed(42)"
   ]
  },
  {
   "cell_type": "code",
   "execution_count": 15,
   "id": "20201d9c-bb29-441c-a497-4095ef2816fd",
   "metadata": {},
   "outputs": [],
   "source": [
    "# Suppress DeprecationWarnings\n",
    "import warnings\n",
    "warnings.filterwarnings(\"ignore\", category=DeprecationWarning)\n",
    "warnings.filterwarnings(\"ignore\", category=UserWarning)"
   ]
  },
  {
   "cell_type": "code",
   "execution_count": 17,
   "id": "c2aced4d-028b-4c8e-b95e-71e221fe5d3a",
   "metadata": {},
   "outputs": [
    {
     "name": "stdout",
     "output_type": "stream",
     "text": [
      "cuda\n"
     ]
    }
   ],
   "source": [
    "device = torch.device('cuda' if torch.cuda.is_available() else 'cpu')\n",
    "print (device)"
   ]
  },
  {
   "cell_type": "markdown",
   "id": "40e58186-4827-4cdc-9f69-122bbd521fbc",
   "metadata": {},
   "source": [
    "画像データの取得・前処理"
   ]
  },
  {
   "cell_type": "code",
   "execution_count": 20,
   "id": "64cc14b4-f157-4ee0-a6b7-5b5b2f32a6da",
   "metadata": {},
   "outputs": [],
   "source": [
    "# 画像データの前処理\n",
    "# Global Contrast Normalization(GCN)\n",
    "class gcn():\n",
    "    def __init__(self):\n",
    "        pass\n",
    "\n",
    "    def __call__(self, x):\n",
    "        mean = torch.mean(x)\n",
    "        std = torch.std(x)\n",
    "        return (x - mean)/(std + 10**(-6))  # 0除算を防ぐ\n",
    "\n",
    "\n",
    "# 標準化後の画像を[0, 1]に正規化する\n",
    "def deprocess(x):\n",
    "    \"\"\"\n",
    "    Argument\n",
    "    --------\n",
    "    x : np.ndarray\n",
    "        入力画像．(H, W, C)\n",
    "\n",
    "    Return\n",
    "    ------\n",
    "    _x : np.ndarray\n",
    "        [0, 1]で正規化した画像．(H, W, C)\n",
    "    \"\"\"\n",
    "    _min = np.min(x)\n",
    "    _max = np.max(x)\n",
    "    _x = (x - _min)/(_max - _min)\n",
    "    return _x\n",
    "\n",
    "GCN = gcn()\n",
    "transform_GCN = transforms.Compose([\n",
    "    transforms.Resize((224, 224)),\n",
    "    transforms.ToTensor(), \n",
    "    GCN, \n",
    "    transforms.Lambda(lambda x: deprocess(x.numpy()).astype(np.float32))\n",
    "])"
   ]
  },
  {
   "cell_type": "code",
   "execution_count": 22,
   "id": "5b7d524a-9842-44ca-b653-41222744a5cf",
   "metadata": {},
   "outputs": [],
   "source": [
    "# 画像データ: (バッチサイズ、チャンネル数、高さ、幅)\n",
    "class CustomDataset(Dataset):\n",
    "    def __init__(self, image_paths_file, image_folder, transform=None):\n",
    "        self.image_paths = []\n",
    "        self.indices = []\n",
    "        self.none_relative_image_paths = []\n",
    "        with open(image_paths_file, 'r') as f:\n",
    "            for idx, line in enumerate(f):\n",
    "                image_path = os.path.join(image_folder, line.strip())\n",
    "                if os.path.exists(image_path):\n",
    "                    self.image_paths.append(image_path)\n",
    "                    self.indices.append(idx)\n",
    "                else:\n",
    "                    relative_path = os.path.relpath(image_path, image_folder)\n",
    "                    self.none_relative_image_paths.append(relative_path)\n",
    "\n",
    "        self.transform = transform\n",
    "\n",
    "    def __len__(self):\n",
    "        return len(self.image_paths)\n",
    "\n",
    "    def __getitem__(self, idx):\n",
    "        img_path = self.image_paths[idx]\n",
    "        image = Image.open(img_path).convert(\"RGB\")\n",
    "        if self.transform:\n",
    "            image = self.transform(image)\n",
    "        return image\n",
    "\n",
    "    def get_relative_image_paths(self):\n",
    "        relative_paths = [os.path.relpath(path, images) for path in self.image_paths]\n",
    "        return relative_paths\n",
    "\n",
    "    def get_none_relative_image_paths(self):\n",
    "        return self.none_relative_image_paths\n",
    "\n",
    "\n",
    "images = '.\\\\images'\n",
    "train_image_paths = '.\\\\data\\\\train_image_paths.txt'\n",
    "val_image_paths = '.\\\\data\\\\val_image_paths.txt'\n",
    "\n",
    "train_dataset = CustomDataset(train_image_paths, images, transform=transform_GCN)\n",
    "val_dataset = CustomDataset(val_image_paths, images, transform=transform_GCN)\n",
    "\n",
    "images_train = DataLoader(train_dataset, batch_size=32, shuffle=False)\n",
    "images_val = DataLoader(val_dataset, batch_size=32, shuffle=False)"
   ]
  },
  {
   "cell_type": "code",
   "execution_count": 23,
   "id": "1ef300f5-de85-44b5-b290-50925145a44a",
   "metadata": {},
   "outputs": [
    {
     "name": "stdout",
     "output_type": "stream",
     "text": [
      "torch.Size([32, 3, 224, 224])\n"
     ]
    }
   ],
   "source": [
    "for batch in images_train:\n",
    "    print (batch.shape)\n",
    "    break"
   ]
  },
  {
   "cell_type": "code",
   "execution_count": 24,
   "id": "a24d6a14-56c9-40b0-a3ad-fbccf7e7c15f",
   "metadata": {},
   "outputs": [
    {
     "name": "stdout",
     "output_type": "stream",
     "text": [
      "59328\n",
      "6400\n",
      "65728\n"
     ]
    }
   ],
   "source": [
    "# images_trainの総数\n",
    "print (len(train_dataset.get_relative_image_paths()))\n",
    "\n",
    "# 不存在の画像パスの総数\n",
    "print (len(train_dataset.get_none_relative_image_paths()))\n",
    "\n",
    "# images_trainの総数+不存在の画像パスの総数が65728になっていればいい\n",
    "print (len(train_dataset.get_relative_image_paths()) + len(train_dataset.get_none_relative_image_paths()))"
   ]
  },
  {
   "cell_type": "code",
   "execution_count": 25,
   "id": "ff83eac6-9fcc-4e81-b82c-8c1c85dd47da",
   "metadata": {},
   "outputs": [
    {
     "name": "stdout",
     "output_type": "stream",
     "text": [
      "14832\n",
      "1600\n",
      "16432\n"
     ]
    }
   ],
   "source": [
    "# images_valの総数\n",
    "print (len(val_dataset.get_relative_image_paths()))\n",
    "\n",
    "# 不存在の画像パスの総数\n",
    "print (len(val_dataset.get_none_relative_image_paths()))\n",
    "\n",
    "# images_valの総数+不存在の画像パスの総数が16432になっていればいい\n",
    "print (len(val_dataset.get_relative_image_paths()) + len(val_dataset.get_none_relative_image_paths()))"
   ]
  },
  {
   "cell_type": "markdown",
   "id": "ab47c28f-a648-434f-8882-0f71c2e841c3",
   "metadata": {},
   "source": [
    "脳波データの取得・前処理"
   ]
  },
  {
   "cell_type": "code",
   "execution_count": 38,
   "id": "4a186a28-86f2-45a6-855d-66044cebb93b",
   "metadata": {},
   "outputs": [],
   "source": [
    "# 脳波データの取得\n",
    "# x: (データ数, チャンネル数, 系列長)\n",
    "# y: 正解ラベル\n",
    "\n",
    "x_train_before_preprocessing = torch.load('.\\\\data\\\\train_X.pt')\n",
    "y_train = torch.load('.\\\\data\\\\train_y.pt')\n",
    "\n",
    "x_val_before_preprocessing = torch.load('.\\\\data\\\\val_X.pt')\n",
    "y_val = torch.load('.\\\\data\\\\val_y.pt')\n",
    "\n",
    "x_test_before_preprocessing = torch.load('.\\\\data\\\\test_X.pt')"
   ]
  },
  {
   "cell_type": "code",
   "execution_count": 39,
   "id": "aeb2e198-4556-4ee9-8761-e949811a6077",
   "metadata": {},
   "outputs": [],
   "source": [
    "# 脳波データの前処理\n",
    "from scipy import signal\n",
    "from sklearn.preprocessing import StandardScaler\n",
    "\n",
    "# リサンプリング\n",
    "def resample_data(data, original_fs, new_fs):\n",
    "    data_np = data.numpy()\n",
    "    num_samples = data_np.shape[2]\n",
    "    new_num_samples = int(num_samples * new_fs / original_fs)\n",
    "    resampled_data_np = signal.resample(data_np, new_num_samples, axis=2)\n",
    "    resampled_data = torch.from_numpy(resampled_data_np)\n",
    "    return resampled_data\n",
    "\n",
    "# フィルタリング\n",
    "def bandpass_filter(data, lowcut, highcut, fs, order=5):\n",
    "    nyquist = 0.5 * fs\n",
    "    low = lowcut / nyquist\n",
    "    high = highcut / nyquist\n",
    "    b, a = signal.butter(order, [low, high], btype='band')\n",
    "    data_np = data.numpy()\n",
    "    filtered_data_np = signal.lfilter(b, a, data_np, axis=2)\n",
    "    filtered_data = torch.from_numpy(filtered_data_np)\n",
    "    return filtered_data\n",
    "\n",
    "# スケーリング\n",
    "def scale_data(data):\n",
    "    original_shape = data.shape\n",
    "    data_reshaped = data.view(-1, data.shape[2]).numpy()\n",
    "    scaler = StandardScaler()\n",
    "    scaled_data_np = scaler.fit_transform(data_reshaped)\n",
    "    scaled_data = torch.from_numpy(scaled_data_np).view(original_shape)\n",
    "    return scaled_data\n",
    "\n",
    "# ベースライン補正\n",
    "def baseline_correction(data):\n",
    "    baseline_window=slice(0, int(len(data))//10)\n",
    "    baseline = data[:, :, baseline_window].mean(dim=2, keepdim=True)\n",
    "    corrected_data = data - baseline\n",
    "    return corrected_data\n",
    "\n",
    "# parameters\n",
    "original_fs = 200\n",
    "new_fs = 100\n",
    "lowcut = 0.1\n",
    "highcut = 40.0\n",
    "fs = 100\n",
    "\n",
    "# 前処理\n",
    "def preprocessing(data):\n",
    "    resampled_data = resample_data(data, original_fs, new_fs)\n",
    "    filtered_data = bandpass_filter(resampled_data, lowcut, highcut, fs)\n",
    "    scaled_data = scale_data(filtered_data)\n",
    "    corrected_data = baseline_correction(scaled_data)\n",
    "    return corrected_data"
   ]
  },
  {
   "cell_type": "code",
   "execution_count": 40,
   "id": "e6e59380-31c4-4f9e-ad15-52b64318c721",
   "metadata": {},
   "outputs": [],
   "source": [
    "x_train = preprocessing(x_train_before_preprocessing)\n",
    "x_val = preprocessing(x_val_before_preprocessing)\n",
    "x_test = preprocessing(x_test_before_preprocessing)"
   ]
  },
  {
   "cell_type": "code",
   "execution_count": 41,
   "id": "9ebc8bd3-a007-467c-bd9e-c8148d550dfe",
   "metadata": {},
   "outputs": [
    {
     "name": "stdout",
     "output_type": "stream",
     "text": [
      "torch.Size([65728, 271, 140])\n",
      "torch.Size([16432, 271, 140])\n",
      "torch.Size([16432, 271, 140])\n"
     ]
    }
   ],
   "source": [
    "print (x_train.shape)\n",
    "print (x_val.shape)\n",
    "print (x_test.shape)"
   ]
  },
  {
   "cell_type": "code",
   "execution_count": 42,
   "id": "8987de13-152f-4173-952f-137a8ba456f2",
   "metadata": {},
   "outputs": [],
   "source": [
    "x_train_for_pretrain = x_train[train_dataset.indices]\n",
    "x_val_for_pretrain = x_val[val_dataset.indices]"
   ]
  },
  {
   "cell_type": "code",
   "execution_count": 43,
   "id": "0f0d8a3e-4469-491f-8658-6d2b37017065",
   "metadata": {},
   "outputs": [
    {
     "name": "stdout",
     "output_type": "stream",
     "text": [
      "59328\n",
      "14832\n"
     ]
    }
   ],
   "source": [
    "print (len(x_train_for_pretrain))\n",
    "print (len(x_val_for_pretrain))"
   ]
  },
  {
   "cell_type": "markdown",
   "id": "bf271caa-c806-4508-bfe3-44f82a508da5",
   "metadata": {},
   "source": [
    "事前学習"
   ]
  },
  {
   "cell_type": "code",
   "execution_count": 30,
   "id": "f24f0e95-1139-4409-bad2-a006332dbd56",
   "metadata": {},
   "outputs": [
    {
     "name": "stderr",
     "output_type": "stream",
     "text": [
      "C:\\Users\\ookalab\\anaconda2\\envs\\DLbasics\\lib\\site-packages\\huggingface_hub\\file_download.py:1132: FutureWarning: `resume_download` is deprecated and will be removed in version 1.0.0. Downloads always resume when possible. If you want to force a new download, use `force_download=True`.\n",
      "  warnings.warn(\n"
     ]
    }
   ],
   "source": [
    "# 画像エンコーダ(CLIP Vision Model)\n",
    "from transformers import CLIPProcessor, CLIPVisionModel\n",
    "\n",
    "clip_model_name = \"openai/clip-vit-large-patch14\"\n",
    "clip_model = CLIPVisionModel.from_pretrained(clip_model_name)\n",
    "clip_processor = CLIPProcessor.from_pretrained(clip_model_name, do_rescale=False)\n",
    "\n",
    "clip_model.to(device)\n",
    "\n",
    "def extract_clip_features(dataset, clip_model, clip_processor, device, output_dir):\n",
    "    os.makedirs(output_dir, exist_ok=True)\n",
    "    clip_model.eval()\n",
    "    \n",
    "    num_batches = len(dataset)\n",
    "    \n",
    "    with torch.no_grad():\n",
    "        for batch_idx, batch in enumerate(tqdm(dataset, desc=\"Extracting features\", total=num_batches)):\n",
    "            batch = batch.to(device)\n",
    "            inputs = clip_processor(images=batch, return_tensors=\"pt\")\n",
    "            inputs = {k: v.to(device) for k, v in inputs.items()}\n",
    "            outputs = clip_model(**inputs)\n",
    "            batch_features = outputs.pooler_output.cpu().numpy()\n",
    "            \n",
    "            batch_path = os.path.join(output_dir, f\"features_batch_{batch_idx}.npy\")\n",
    "            np.save(batch_path, batch_features)\n",
    "    \n",
    "    all_features = []\n",
    "    for batch_idx in range(num_batches):\n",
    "        batch_path = os.path.join(output_dir, f\"features_batch_{batch_idx}.npy\")\n",
    "        batch_features = np.load(batch_path)\n",
    "        all_features.append(batch_features)\n",
    "    \n",
    "    all_features = np.concatenate(all_features, axis=0)\n",
    "    return all_features"
   ]
  },
  {
   "cell_type": "code",
   "execution_count": 31,
   "id": "22282e4f-86af-4afd-869f-40638dcd67ca",
   "metadata": {},
   "outputs": [
    {
     "name": "stderr",
     "output_type": "stream",
     "text": [
      "Extracting features: 100%|█████████████████████████████████████████████████████████| 1854/1854 [55:45<00:00,  1.80s/it]\n"
     ]
    }
   ],
   "source": [
    "# 訓練データから特徴量を抽出\n",
    "train_features = extract_clip_features(images_train, clip_model, clip_processor, device, output_dir=\"clip_features_train\")"
   ]
  },
  {
   "cell_type": "code",
   "execution_count": 34,
   "id": "b452aed4-c139-4d02-8798-444292abe061",
   "metadata": {},
   "outputs": [
    {
     "name": "stderr",
     "output_type": "stream",
     "text": [
      "Extracting features: 100%|███████████████████████████████████████████████████████████| 464/464 [13:50<00:00,  1.79s/it]\n"
     ]
    }
   ],
   "source": [
    "# 検証データから特徴量を抽出\n",
    "val_features = extract_clip_features(images_val, clip_model, clip_processor, device, output_dir=\"clip_features_val\")"
   ]
  },
  {
   "cell_type": "code",
   "execution_count": 35,
   "id": "7c25d91b-2647-4ac0-9cc8-79b85a10c136",
   "metadata": {},
   "outputs": [
    {
     "name": "stdout",
     "output_type": "stream",
     "text": [
      "Train features shape: (59328, 1024)\n",
      "Validation features shape: (14832, 1024)\n"
     ]
    }
   ],
   "source": [
    "print(\"Train features shape:\", train_features.shape)\n",
    "print(\"Validation features shape:\", val_features.shape)"
   ]
  },
  {
   "cell_type": "code",
   "execution_count": 413,
   "id": "f07dcbde-8a12-4908-b9d8-abf09bdf06d3",
   "metadata": {},
   "outputs": [],
   "source": [
    "# 脳波エンコーダ\n",
    "# データセットクラスの定義\n",
    "class EEGDataset(Dataset):\n",
    "    def __init__(self, eeg_data, image_features):\n",
    "        self.eeg_data = eeg_data\n",
    "        self.image_features = torch.tensor(image_features, dtype=torch.float32)\n",
    "\n",
    "    def __len__(self):\n",
    "        return len(self.eeg_data)\n",
    "\n",
    "    def __getitem__(self, idx):\n",
    "        eeg_sample = self.eeg_data[idx]\n",
    "        image_feature = self.image_features[idx]\n",
    "        return eeg_sample, image_feature"
   ]
  },
  {
   "cell_type": "code",
   "execution_count": 415,
   "id": "bbb41f74-61d3-49bf-987c-91a149c7c50e",
   "metadata": {},
   "outputs": [],
   "source": [
    "# Dataloaderの作成\n",
    "batch_size = 16\n",
    "\n",
    "train_dataset_for_pretrain = EEGDataset(x_train_for_pretrain, train_features)\n",
    "train_dataloader_for_pretrain = DataLoader(train_dataset_for_pretrain, batch_size=batch_size, shuffle=True)\n",
    "\n",
    "val_dataset_for_pretrain = EEGDataset(x_val_for_pretrain, val_features)\n",
    "val_dataloader_for_pretrain = DataLoader(val_dataset_for_pretrain, batch_size=batch_size, shuffle=True)"
   ]
  },
  {
   "cell_type": "code",
   "execution_count": 416,
   "id": "6919865a-d788-47c3-875f-775a80357650",
   "metadata": {},
   "outputs": [
    {
     "name": "stdout",
     "output_type": "stream",
     "text": [
      "torch.Size([16, 271, 140])\n",
      "torch.Size([16, 1024])\n"
     ]
    }
   ],
   "source": [
    "for data, feature in train_dataloader_for_pretrain:\n",
    "    print (data.shape)\n",
    "    print (feature.shape)\n",
    "    break"
   ]
  },
  {
   "cell_type": "code",
   "execution_count": 419,
   "id": "d7ea7637-7a8e-40bf-afef-1a7942ce5e85",
   "metadata": {},
   "outputs": [],
   "source": [
    "# 脳波エンコーダの作成\n",
    "class EEG_Encoder(nn.Module):\n",
    "    def __init__(self, input_channels, seq_length, embed_dim, num_heads, num_encoder_layers, dropout):\n",
    "        super(EEG_Encoder, self).__init__()\n",
    "        self.conv1 = nn.Conv1d(input_channels, embed_dim, kernel_size=3, padding=1)\n",
    "        self.pos_embedding = nn.Parameter(torch.randn(seq_length, embed_dim))\n",
    "        self.transformer = nn.Transformer(\n",
    "            d_model=embed_dim,\n",
    "            nhead=num_heads,\n",
    "            num_encoder_layers=num_encoder_layers,\n",
    "            num_decoder_layers=0,\n",
    "            dropout=dropout\n",
    "        )\n",
    "\n",
    "    def forward(self, x):\n",
    "        batch_size, _, _ = x.size()\n",
    "        x = x.to(torch.float32)\n",
    "        x = self.conv1(x)\n",
    "        x = x.permute(2, 0, 1)\n",
    "        x = x + self.pos_embedding.unsqueeze(1)\n",
    "        x = self.transformer(x, x)\n",
    "        x = x.mean(dim=0)\n",
    "        return x"
   ]
  },
  {
   "cell_type": "code",
   "execution_count": 421,
   "id": "6b1543b8-e0ea-4210-b4a0-627443591858",
   "metadata": {},
   "outputs": [],
   "source": [
    "# ヘルパー関数の実装\n",
    "# cosine scheduler\n",
    "class CosineScheduler:\n",
    "    def __init__(self, epochs, lr, warmup_length):\n",
    "        \"\"\"\n",
    "        Arguments\n",
    "        ---------\n",
    "        epochs : int\n",
    "            学習のエポック数．\n",
    "        lr : float\n",
    "            学習率．\n",
    "        warmup_length : int\n",
    "            warmupを適用するエポック数．\n",
    "        \"\"\"\n",
    "        self.epochs = epochs\n",
    "        self.lr = lr\n",
    "        self.warmup = warmup_length\n",
    "\n",
    "    def __call__(self, epoch):\n",
    "        \"\"\"\n",
    "        Arguments\n",
    "        ---------\n",
    "        epoch : int\n",
    "            現在のエポック数．\n",
    "        \"\"\"\n",
    "        progress = (epoch - self.warmup) / (self.epochs - self.warmup)\n",
    "        progress = np.clip(progress, 0.0, 1.0)\n",
    "        lr = self.lr * 0.5 * (1. + np.cos(np.pi * progress))\n",
    "\n",
    "        if self.warmup:\n",
    "            lr = lr * min(1., (epoch+1) / self.warmup)\n",
    "\n",
    "        return lr\n",
    "\n",
    "def set_lr(lr, optimizer):\n",
    "    for param_group in optimizer.param_groups:\n",
    "        param_group[\"lr\"] = lr"
   ]
  },
  {
   "cell_type": "code",
   "execution_count": 423,
   "id": "ac3e6a67-8516-4791-a37d-bb1938bf9df4",
   "metadata": {
    "scrolled": true
   },
   "outputs": [],
   "source": [
    "# hyperparameters\n",
    "input_channels = x_train_for_pretrain.size(1)\n",
    "seq_length = x_train_for_pretrain.size(2)\n",
    "embed_dim = 1024\n",
    "num_heads = 8\n",
    "num_encoder_layers = 3\n",
    "dropout = 0.3\n",
    "epochs = 1000\n",
    "lr = 0.001\n",
    "warmup_length = epochs * 0.05\n",
    "step_count = 0\n",
    "\n",
    "# モデルと損失関数の定義\n",
    "model = EEG_Encoder(input_channels, seq_length, embed_dim, num_heads, num_encoder_layers, dropout).to(device)\n",
    "criterion = nn.CosineEmbeddingLoss()\n",
    "\n",
    "optimizer = optim.AdamW(model.parameters(), lr=lr, betas=(0.9, 0.95), weight_decay=0.1)\n",
    "scheduler = CosineScheduler(epochs, lr, warmup_length)"
   ]
  },
  {
   "cell_type": "code",
   "execution_count": 425,
   "id": "bc2af34f-31bb-465b-abb1-c59df1ec140a",
   "metadata": {},
   "outputs": [],
   "source": [
    "# print (model)"
   ]
  },
  {
   "cell_type": "code",
   "execution_count": 427,
   "id": "5ad4350a-6cb6-49e9-b3c7-2dedb576f888",
   "metadata": {},
   "outputs": [
    {
     "data": {
      "image/png": "[encoded data removed]",
      "text/plain": [
       "<Figure size 640x480 with 1 Axes>"
      ]
     },
     "metadata": {},
     "output_type": "display_data"
    }
   ],
   "source": [
    "scheduler = CosineScheduler(epochs, lr, warmup_length)\n",
    "x = np.arange(epochs)\n",
    "plt.plot(x, [scheduler(epoch) for epoch in x])\n",
    "plt.xlabel(\"Epoch\")\n",
    "plt.ylabel(\"LR\")\n",
    "plt.grid(True)\n",
    "\n",
    "plt.show()"
   ]
  },
  {
   "cell_type": "code",
   "execution_count": 429,
   "id": "62c6a07f-2935-43cc-ad55-d8d993cf24cf",
   "metadata": {},
   "outputs": [],
   "source": [
    "import time\n",
    "\n",
    "def format_time(seconds):\n",
    "    hours, rem = divmod(seconds, 3600)\n",
    "    minutes, seconds = divmod(rem, 60)\n",
    "    return f\"{int(hours):02}:{int(minutes):02}:{int(seconds):02}\""
   ]
  },
  {
   "cell_type": "code",
   "execution_count": 431,
   "id": "e29404b6-dbd0-4fc9-a240-cd57001a85b6",
   "metadata": {},
   "outputs": [
    {
     "name": "stdout",
     "output_type": "stream",
     "text": [
      "Epoch[1 / 1000] Train Loss: 0.8653 Valid Loss: 0.7503 Duration: 00:01:32 Total Time: 00:01:32\n",
      "Epoch[10 / 1000] Train Loss: 0.4355 Valid Loss: 0.4387 Duration: 00:01:29 Total Time: 00:15:07\n",
      "Epoch[20 / 1000] Train Loss: 0.4338 Valid Loss: 0.4384 Duration: 00:01:29 Total Time: 00:30:06\n",
      "Epoch[30 / 1000] Train Loss: 0.4333 Valid Loss: 0.4381 Duration: 00:01:30 Total Time: 00:45:06\n",
      "Epoch[40 / 1000] Train Loss: 0.4332 Valid Loss: 0.4379 Duration: 00:01:31 Total Time: 01:00:17\n",
      "Epoch[50 / 1000] Train Loss: 0.4331 Valid Loss: 0.4376 Duration: 00:01:30 Total Time: 01:15:22\n",
      "Epoch[60 / 1000] Train Loss: 0.4327 Valid Loss: 0.4375 Duration: 00:01:30 Total Time: 01:30:26\n",
      "Epoch[70 / 1000] Train Loss: 0.4325 Valid Loss: 0.4372 Duration: 00:01:30 Total Time: 01:45:30\n",
      "Epoch[80 / 1000] Train Loss: 0.4323 Valid Loss: 0.4372 Duration: 00:01:30 Total Time: 02:00:33\n",
      "Epoch[90 / 1000] Train Loss: 0.4322 Valid Loss: 0.4373 Duration: 00:01:29 Total Time: 02:15:30\n",
      "Epoch[100 / 1000] Train Loss: 0.4321 Valid Loss: 0.4373 Duration: 00:01:28 Total Time: 02:30:21\n",
      "Epoch[110 / 1000] Train Loss: 0.4321 Valid Loss: 0.4373 Duration: 00:01:30 Total Time: 02:45:30\n",
      "Epoch[120 / 1000] Train Loss: 0.4320 Valid Loss: 0.4372 Duration: 00:01:30 Total Time: 03:00:34\n",
      "Epoch[130 / 1000] Train Loss: 0.4319 Valid Loss: 0.4372 Duration: 00:01:30 Total Time: 03:15:41\n",
      "Epoch[140 / 1000] Train Loss: 0.4319 Valid Loss: 0.4373 Duration: 00:01:30 Total Time: 03:30:49\n",
      "Epoch[150 / 1000] Train Loss: 0.4319 Valid Loss: 0.4370 Duration: 00:01:30 Total Time: 03:45:56\n",
      "Epoch[160 / 1000] Train Loss: 0.4318 Valid Loss: 0.4371 Duration: 00:01:30 Total Time: 04:01:01\n",
      "Epoch[170 / 1000] Train Loss: 0.4318 Valid Loss: 0.4371 Duration: 00:01:30 Total Time: 04:16:06\n",
      "Epoch[180 / 1000] Train Loss: 0.4318 Valid Loss: 0.4370 Duration: 00:01:30 Total Time: 04:31:18\n",
      "Epoch[190 / 1000] Train Loss: 0.4318 Valid Loss: 0.4372 Duration: 00:01:30 Total Time: 04:46:23\n",
      "Epoch[200 / 1000] Train Loss: 0.4317 Valid Loss: 0.4371 Duration: 00:01:30 Total Time: 05:01:29\n",
      "Early stopping triggered\n"
     ]
    }
   ],
   "source": [
    "total_time = 0\n",
    "min_valid_loss = 1\n",
    "early_stopping_patience = 75\n",
    "\n",
    "# 事前学習\n",
    "for epoch in range(epochs):\n",
    "    epoch_start_time = time.time()\n",
    "\n",
    "    new_lr = scheduler(epoch)\n",
    "    set_lr(new_lr, optimizer)\n",
    "\n",
    "    total_train_loss = 0.\n",
    "    total_valid_loss = 0.\n",
    "\n",
    "    # モデルの訓練\n",
    "    for eeg_data, image_feature in train_dataloader_for_pretrain:\n",
    "        step_count += 1\n",
    "        model.train()\n",
    "        eeg_data, image_feature = eeg_data.to(device), image_feature.to(device)\n",
    "\n",
    "        eeg_feature = model(eeg_data)\n",
    "        train_loss = criterion(eeg_feature, image_feature, torch.ones(eeg_feature.size(0)).to(device))\n",
    "        train_loss.backward()\n",
    "\n",
    "        if step_count % 8 == 0:  # 8イテレーションごとに更新することで、擬似的にバッチサイズを大きくしている\n",
    "            optimizer.step()\n",
    "            optimizer.zero_grad()\n",
    "\n",
    "        total_train_loss += train_loss.item()\n",
    "\n",
    "    # モデルの評価\n",
    "    with torch.no_grad():\n",
    "        for eeg_data, image_feature in val_dataloader_for_pretrain:\n",
    "            model.eval()\n",
    "            eeg_data, image_feature = eeg_data.to(device), image_feature.to(device)\n",
    "\n",
    "            eeg_feature = model(eeg_data)\n",
    "            valid_loss = criterion(eeg_feature, image_feature, torch.ones(eeg_feature.size(0)).to(device))\n",
    "\n",
    "            total_valid_loss += valid_loss.item()\n",
    "\n",
    "    epoch_end_time = time.time()\n",
    "    epoch_duration = epoch_end_time - epoch_start_time\n",
    "    total_time += epoch_duration\n",
    "\n",
    "    if epoch % 10 == 9 or epoch == 0:\n",
    "        formatted_epoch_duration = format_time(epoch_duration)\n",
    "        formatted_total_time = format_time(total_time)\n",
    "\n",
    "        print(f\"Epoch[{epoch+1} / {epochs}] Train Loss: {total_train_loss/len(train_dataloader_for_pretrain):.4f} Valid Loss: {total_valid_loss/len(val_dataloader_for_pretrain):.4f} Duration: {formatted_epoch_duration} Total Time: {formatted_total_time}\")\n",
    "\n",
    "    # モデルの保存\n",
    "    torch.save(model.state_dict(), 'eeg_pretrain_params_last.pth')\n",
    "\n",
    "    # 一番性能の良いモデルの保存、早期終了チェック\n",
    "    if total_valid_loss/len(val_dataloader_for_pretrain) < min_valid_loss:\n",
    "        torch.save(model.state_dict(), 'eeg_pretrain_params_best.pth')\n",
    "        min_valid_loss = total_valid_loss/len(val_dataloader_for_pretrain)\n",
    "        patience_counter = 0\n",
    "\n",
    "    else:\n",
    "        patience_counter += 1\n",
    "\n",
    "    if patience_counter > early_stopping_patience:\n",
    "        print(\"Early stopping triggered\")\n",
    "        break"
   ]
  },
  {
   "cell_type": "markdown",
   "id": "a5cffb1b-13a5-46eb-b700-6494b6e7bdf0",
   "metadata": {},
   "source": [
    "クラス分類"
   ]
  },
  {
   "cell_type": "code",
   "execution_count": 433,
   "id": "bf07784f-c4d2-4169-af15-04114e275924",
   "metadata": {},
   "outputs": [],
   "source": [
    "del model, train_loss, valid_loss\n",
    "torch.cuda.empty_cache()"
   ]
  },
  {
   "cell_type": "code",
   "execution_count": 435,
   "id": "382db8db-94af-4081-82bb-3cc06c7a8708",
   "metadata": {},
   "outputs": [
    {
     "data": {
      "text/plain": [
       "<All keys matched successfully>"
      ]
     },
     "execution_count": 435,
     "metadata": {},
     "output_type": "execute_result"
    }
   ],
   "source": [
    "# 脳波エンコーダの読み込み\n",
    "pretrained_model = EEG_Encoder(input_channels, seq_length, embed_dim, num_heads, num_encoder_layers, dropout).to(device)\n",
    "pretrained_model.load_state_dict(torch.load('eeg_pretrain_params_best.pth', map_location=device))"
   ]
  },
  {
   "cell_type": "code",
   "execution_count": 437,
   "id": "cb635e06-fb5d-434f-8b2c-3ad7fcbfcc15",
   "metadata": {},
   "outputs": [],
   "source": [
    "# クラス分類器(MLP)\n",
    "class Classifier(nn.Module):\n",
    "    def __init__(self, encoder_model, hidden_dim, output_dim, dropout_prob):\n",
    "        super(Classifier, self).__init__()\n",
    "        self.encoder = encoder_model\n",
    "        self.mlp = nn.Sequential(\n",
    "            nn.Linear(embed_dim, hidden_dim),\n",
    "            nn.LeakyReLU(),\n",
    "            nn.Dropout(dropout_prob),\n",
    "            nn.Linear(hidden_dim, hidden_dim),\n",
    "            nn.LeakyReLU(),\n",
    "            nn.Dropout(dropout_prob),\n",
    "            nn.Linear(hidden_dim, output_dim)\n",
    "        )\n",
    "\n",
    "    def forward(self, x):\n",
    "        encoded_features = self.encoder(x)\n",
    "        return self.mlp(encoded_features)"
   ]
  },
  {
   "cell_type": "code",
   "execution_count": 439,
   "id": "d9cb5ea9-edec-4c69-8ad4-fa220f42c640",
   "metadata": {},
   "outputs": [],
   "source": [
    "# hyperparameters\n",
    "hidden_dim = 2048\n",
    "output_dim = 1854\n",
    "dropout_prob = 0.4\n",
    "epochs = 100\n",
    "lr = 0.0001\n",
    "warmup_length = epochs * 0.05\n",
    "step_count = 0\n",
    "\n",
    "classifier = Classifier(pretrained_model, hidden_dim, output_dim, dropout_prob).to(device)\n",
    "criterion = nn.CrossEntropyLoss()\n",
    "\n",
    "optimizer = optim.AdamW(classifier.mlp.parameters(), lr=lr, betas=(0.9, 0.95), weight_decay=0.1)\n",
    "scheduler = CosineScheduler(epochs, lr, warmup_length)"
   ]
  },
  {
   "cell_type": "code",
   "execution_count": 441,
   "id": "d30fd6c1-7ecd-4438-a9a7-94f0b6b7f750",
   "metadata": {},
   "outputs": [
    {
     "data": {
      "image/png": "[encoded data removed]",
      "text/plain": [
       "<Figure size 640x480 with 1 Axes>"
      ]
     },
     "metadata": {},
     "output_type": "display_data"
    }
   ],
   "source": [
    "scheduler = CosineScheduler(epochs, lr, warmup_length)\n",
    "x = np.arange(epochs)\n",
    "plt.plot(x, [scheduler(epoch) for epoch in x])\n",
    "plt.xlabel(\"Epoch\")\n",
    "plt.ylabel(\"LR\")\n",
    "plt.grid(True)\n",
    "\n",
    "plt.show()"
   ]
  },
  {
   "cell_type": "code",
   "execution_count": 443,
   "id": "bcd65973-efee-474c-b758-8505c3c5857d",
   "metadata": {},
   "outputs": [],
   "source": [
    "class train_dataset(Dataset):\n",
    "    def __init__(self, x_train, y_train):\n",
    "        self.x_train = x_train\n",
    "        self.y_train = y_train\n",
    "\n",
    "    def __len__(self):\n",
    "        return self.x_train.shape[0]\n",
    "\n",
    "    def __getitem__(self, idx):\n",
    "        return torch.tensor(self.x_train[idx], dtype=torch.float), torch.tensor(self.y_train[idx], dtype=torch.long)\n",
    "\n",
    "class val_dataset(Dataset):\n",
    "    def __init__(self, x_val, y_val):\n",
    "        self.x_val = x_val\n",
    "        self.y_val = y_val\n",
    "\n",
    "    def __len__(self):\n",
    "        return self.x_val.shape[0]\n",
    "\n",
    "    def __getitem__(self, idx):\n",
    "        return torch.tensor(self.x_val[idx], dtype=torch.float), torch.tensor(self.y_val[idx], dtype=torch.long)\n",
    "\n",
    "class test_dataset(Dataset):\n",
    "    def __init__(self, x_test):\n",
    "        self.x_test = x_test\n",
    "\n",
    "    def __len__(self):\n",
    "        return self.x_test.shape[0]\n",
    "\n",
    "    def __getitem__(self, idx):\n",
    "        return torch.tensor(self.x_test[idx], dtype=torch.float)\n",
    "\n",
    "train_data = train_dataset(x_train, y_train)\n",
    "val_data = val_dataset(x_val, y_val)\n",
    "test_data = test_dataset(x_test)"
   ]
  },
  {
   "cell_type": "code",
   "execution_count": 445,
   "id": "49c6150f-f8d7-4dff-914c-ff1586bc7877",
   "metadata": {},
   "outputs": [],
   "source": [
    "dataloader_train = DataLoader(train_data, batch_size=batch_size, shuffle=True)\n",
    "dataloader_val = DataLoader(val_data, batch_size=batch_size, shuffle=True)\n",
    "dataloader_test = DataLoader(test_data, batch_size=batch_size, shuffle=False)"
   ]
  },
  {
   "cell_type": "code",
   "execution_count": 447,
   "id": "2bfd9ee4-c944-42b1-9a6c-26f7d4a1f741",
   "metadata": {},
   "outputs": [
    {
     "name": "stdout",
     "output_type": "stream",
     "text": [
      "Epoch[1 / 100] Train Loss: 7.5215 Train Acc.: 0.0078 Valid Loss: 7.5041 Valid Acc.: 0.0096 Duration: 00:03:33 Total Time: 00:03:33\n",
      "Epoch[2 / 100] Train Loss: 7.5089 Train Acc.: 0.0076 Valid Loss: 7.4946 Valid Acc.: 0.0105 Duration: 00:01:48 Total Time: 00:05:22\n",
      "Epoch[4 / 100] Train Loss: 7.4631 Train Acc.: 0.0136 Valid Loss: 7.4416 Valid Acc.: 0.0156 Duration: 00:01:46 Total Time: 00:08:57\n",
      "Epoch[6 / 100] Train Loss: 7.4200 Train Acc.: 0.0156 Valid Loss: 7.4267 Valid Acc.: 0.0173 Duration: 00:01:47 Total Time: 00:12:32\n",
      "Epoch[8 / 100] Train Loss: 7.3816 Train Acc.: 0.0207 Valid Loss: 7.4023 Valid Acc.: 0.0200 Duration: 00:01:48 Total Time: 00:16:08\n",
      "Epoch[10 / 100] Train Loss: 7.3495 Train Acc.: 0.0236 Valid Loss: 7.3895 Valid Acc.: 0.0215 Duration: 00:01:47 Total Time: 00:19:44\n",
      "Epoch[12 / 100] Train Loss: 7.3194 Train Acc.: 0.0246 Valid Loss: 7.3852 Valid Acc.: 0.0225 Duration: 00:01:47 Total Time: 00:23:21\n",
      "Epoch[14 / 100] Train Loss: 7.2935 Train Acc.: 0.0274 Valid Loss: 7.3862 Valid Acc.: 0.0232 Duration: 00:01:47 Total Time: 00:26:56\n",
      "Epoch[16 / 100] Train Loss: 7.2730 Train Acc.: 0.0290 Valid Loss: 7.3862 Valid Acc.: 0.0236 Duration: 00:01:47 Total Time: 00:30:31\n",
      "Epoch[18 / 100] Train Loss: 7.2580 Train Acc.: 0.0301 Valid Loss: 7.3840 Valid Acc.: 0.0245 Duration: 00:01:48 Total Time: 00:34:08\n",
      "Epoch[20 / 100] Train Loss: 7.2448 Train Acc.: 0.0305 Valid Loss: 7.3972 Valid Acc.: 0.0244 Duration: 00:01:48 Total Time: 00:37:43\n",
      "Epoch[22 / 100] Train Loss: 7.2339 Train Acc.: 0.0320 Valid Loss: 7.3928 Valid Acc.: 0.0245 Duration: 00:01:47 Total Time: 00:41:19\n",
      "Epoch[24 / 100] Train Loss: 7.2216 Train Acc.: 0.0325 Valid Loss: 7.4077 Valid Acc.: 0.0248 Duration: 00:01:47 Total Time: 00:44:54\n",
      "Epoch[26 / 100] Train Loss: 7.2098 Train Acc.: 0.0338 Valid Loss: 7.4006 Valid Acc.: 0.0232 Duration: 00:01:49 Total Time: 00:48:31\n",
      "Epoch[28 / 100] Train Loss: 7.1947 Train Acc.: 0.0346 Valid Loss: 7.4266 Valid Acc.: 0.0248 Duration: 00:01:49 Total Time: 00:52:10\n",
      "Epoch[30 / 100] Train Loss: 7.1840 Train Acc.: 0.0354 Valid Loss: 7.4027 Valid Acc.: 0.0246 Duration: 00:01:48 Total Time: 00:55:48\n",
      "Epoch[32 / 100] Train Loss: 7.1705 Train Acc.: 0.0368 Valid Loss: 7.4104 Valid Acc.: 0.0246 Duration: 00:01:48 Total Time: 00:59:26\n",
      "Epoch[34 / 100] Train Loss: 7.1591 Train Acc.: 0.0378 Valid Loss: 7.4115 Valid Acc.: 0.0234 Duration: 00:01:51 Total Time: 01:03:05\n",
      "Early stopping triggered\n"
     ]
    }
   ],
   "source": [
    "# 学習\n",
    "accuracy = Accuracy(task=\"multiclass\", num_classes=1854, top_k=10).to(device)\n",
    "total_time_1 = 0\n",
    "max_val_acc = 0.\n",
    "early_stopping_patience_1 = 10\n",
    "\n",
    "for epoch in range(epochs):\n",
    "    epoch_start_time = time.time()\n",
    "\n",
    "    new_lr = scheduler(epoch)\n",
    "    set_lr(new_lr, optimizer)\n",
    "\n",
    "    total_train_loss = 0.\n",
    "    total_train_acc = 0.\n",
    "    total_valid_loss = 0.\n",
    "    total_valid_acc = 0.\n",
    "   \n",
    "    # モデルの訓練\n",
    "    classifier.train()\n",
    "    for x, t in dataloader_train:\n",
    "        step_count += 1\n",
    "        x, t = x.to(device), t.to(device)\n",
    "\n",
    "        pred = classifier(x)\n",
    "        train_loss = criterion(pred, t)\n",
    "        train_acc = accuracy(pred, t)\n",
    "        train_loss.backward()\n",
    "\n",
    "        if step_count % 4 == 0:\n",
    "            optimizer.step()\n",
    "            optimizer.zero_grad()\n",
    "\n",
    "        total_train_loss += train_loss.item()\n",
    "        total_train_acc += train_acc.item()\n",
    "\n",
    "    # モデルの評価\n",
    "    classifier.eval()\n",
    "    with torch.no_grad():\n",
    "        for x, t in dataloader_val:\n",
    "            x, t = x.to(device), t.to(device)\n",
    "\n",
    "            pred = classifier(x)\n",
    "            valid_loss = criterion(pred, t)\n",
    "            valid_acc = accuracy(pred, t)\n",
    "\n",
    "            total_valid_loss += valid_loss.item()\n",
    "            total_valid_acc += valid_acc.item()\n",
    "    \n",
    "    epoch_end_time = time.time()\n",
    "    epoch_duration = epoch_end_time - epoch_start_time\n",
    "    total_time_1 += epoch_duration\n",
    "\n",
    "    if epoch % 2 == 1 or epoch == 0:\n",
    "        formatted_epoch_duration = format_time(epoch_duration)\n",
    "        formatted_total_time = format_time(total_time_1)\n",
    "\n",
    "        print(f\"Epoch[{epoch+1} / {epochs}]\",\n",
    "              f\"Train Loss: {total_train_loss/len(dataloader_train):.4f}\",\n",
    "              f\"Train Acc.: {total_train_acc/len(dataloader_train):.4f}\",\n",
    "              f\"Valid Loss: {total_valid_loss/len(dataloader_val):.4f}\",\n",
    "              f\"Valid Acc.: {total_valid_acc/len(dataloader_val):.4f}\",\n",
    "              f\"Duration: {formatted_epoch_duration}\",\n",
    "              f\"Total Time: {formatted_total_time}\")\n",
    "\n",
    "    # モデルを保存\n",
    "    torch.save(classifier.state_dict(), 'eeg_classifier_params_last.pth')\n",
    "\n",
    "    # 一番性能の良いモデルの保存、早期終了チェック\n",
    "    if total_valid_acc/len(dataloader_val) > max_val_acc:\n",
    "        torch.save(classifier.state_dict(), 'eeg_classifier_params_best.pth')\n",
    "        max_val_acc = total_valid_acc/len(dataloader_val)\n",
    "        patience_counter = 0\n",
    "\n",
    "    else:\n",
    "        patience_counter += 1\n",
    "\n",
    "    if patience_counter > early_stopping_patience_1:\n",
    "        print(\"Early stopping triggered\")\n",
    "        break"
   ]
  },
  {
   "cell_type": "code",
   "execution_count": 457,
   "id": "c3e1ea96-2a65-43eb-b513-3968cae1c69e",
   "metadata": {},
   "outputs": [
    {
     "data": {
      "text/plain": [
       "<All keys matched successfully>"
      ]
     },
     "execution_count": 457,
     "metadata": {},
     "output_type": "execute_result"
    }
   ],
   "source": [
    "# クラス分類器の読み込み\n",
    "trained_classifier = Classifier(pretrained_model, hidden_dim, output_dim, dropout_prob).to(device)\n",
    "trained_classifier.load_state_dict(torch.load('eeg_classifier_params_best.pth', map_location=device))"
   ]
  },
  {
   "cell_type": "code",
   "execution_count": 458,
   "id": "4ed87c6c-6cbc-40aa-9f6d-d64f7e4de97f",
   "metadata": {},
   "outputs": [],
   "source": [
    "trained_classifier.eval()\n",
    "preds = []\n",
    "\n",
    "for x in dataloader_test:\n",
    "    x = x.to(device)\n",
    "    y = trained_classifier(x)\n",
    "\n",
    "    preds.append(y.detach().cpu())\n",
    "\n",
    "preds = torch.cat(preds, dim=0).numpy()\n",
    "np.save('submission_pred.npy', preds)"
   ]
  }
 ],
 "metadata": {
  "kernelspec": {
   "display_name": "DLbasics",
   "language": "python",
   "name": "dlbasics"
  },
  "language_info": {
   "codemirror_mode": {
    "name": "ipython",
    "version": 3
   },
   "file_extension": ".py",
   "mimetype": "text/x-python",
   "name": "python",
   "nbconvert_exporter": "python",
   "pygments_lexer": "ipython3",
   "version": "3.10.0"
  }
 },
 "nbformat": 4,
 "nbformat_minor": 5
}
